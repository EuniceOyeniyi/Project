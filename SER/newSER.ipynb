{
 "cells": [
  {
   "cell_type": "code",
   "execution_count": 2,
   "metadata": {},
   "outputs": [],
   "source": [
    "import pandas as pd\n",
    "import numpy as np\n",
    "import random\n",
    "import re\n",
    "\n",
    "import os, sys, glob, pickle\n",
    "\n",
    "import librosa\n",
    "import librosa.display\n",
    "import seaborn as sns\n",
    "import matplotlib.pyplot as plt\n",
    "\n",
    "import soundfile as sf\n",
    "\n",
    "from sklearn.model_selection import train_test_split\n",
    "from sklearn.neural_network import MLPClassifier\n",
    "from sklearn.metrics import accuracy_score, confusion_matrix, classification_report\n",
    "from sklearn.preprocessing import StandardScaler, OneHotEncoder\n",
    "\n",
    "import IPython.display as ipd\n",
    "\n",
    "import keras\n",
    "from keras.callbacks import ReduceLROnPlateau\n",
    "from keras.models import Sequential\n",
    "from keras.layers import Dense, Conv1D, MaxPooling1D, Flatten, Dropout, BatchNormalization\n",
    "from keras.utils import np_utils, to_categorical\n",
    "from keras.callbacks import ModelCheckpoint\n",
    "from tqdm import tqdm, tqdm_pandas\n",
    "\n",
    "import warnings\n",
    "if not sys.warnoptions:\n",
    "    warnings.simplefilter(\"ignore\")\n",
    "warnings.filterwarnings(\"ignore\", category=DeprecationWarning) \n"
   ]
  },
  {
   "cell_type": "code",
   "execution_count": 3,
   "metadata": {},
   "outputs": [],
   "source": [
    "import keras\n",
    "from keras import regularizers\n",
    "from keras.preprocessing import sequence\n",
    "from keras.preprocessing.text import Tokenizer\n",
    "\n",
    "from keras.models import Sequential, Model, model_from_json\n",
    "from keras.layers import Dense, Embedding, LSTM\n",
    "from keras.layers import Input, Flatten, Dropout, Activation, BatchNormalization\n",
    "from keras.layers import Conv1D, MaxPooling1D, AveragePooling1D\n",
    "from keras.utils import np_utils, to_categorical\n",
    "from keras.callbacks import (EarlyStopping, LearningRateScheduler,\n",
    "                             ModelCheckpoint, TensorBoard, ReduceLROnPlateau)\n",
    "from keras import losses, models, optimizers\n",
    "from keras.activations import relu, softmax\n",
    "from keras.layers import (Convolution2D, GlobalAveragePooling2D, BatchNormalization, Flatten, Dropout,\n",
    "                          GlobalMaxPool2D, MaxPool2D, concatenate, Activation, Input, Dense)\n",
    "\n",
    "# sklearn\n",
    "from sklearn.metrics import confusion_matrix, accuracy_score\n",
    "from sklearn.preprocessing import LabelEncoder\n",
    "\n",
    "# Other  \n",
    "from tqdm import tqdm, tqdm_pandas\n",
    "import scipy\n",
    "from scipy.stats import skew\n",
    "import librosa\n",
    "import librosa.display\n",
    "import json\n",
    "import numpy as np\n",
    "import matplotlib.pyplot as plt\n",
    "import tensorflow as tf\n",
    "from matplotlib.pyplot import specgram\n",
    "import pandas as pd\n",
    "import seaborn as sns\n",
    "import glob \n",
    "import os\n",
    "import sys\n",
    "import IPython.display as ipd  # To play sound in the notebook\n",
    "import warnings\n",
    "# ignore warnings \n",
    "if not sys.warnoptions:\n",
    "    warnings.simplefilter(\"ignore\")"
   ]
  },
  {
   "cell_type": "code",
   "execution_count": 4,
   "metadata": {},
   "outputs": [],
   "source": [
    "# import pyttsx3 as pt\n",
    "# import speech_recognition as sr\n",
    "# import pywhatkit\n",
    "# import time\n",
    "\n",
    "# from selenium import webdriver\n",
    "# from selenium.webdriver.common.by import By\n",
    "# from selenium.webdriver.chrome.service import Service\n",
    "# from selenium.webdriver.support import expected_conditions as EC\n",
    "# from selenium.webdriver.support.ui import WebDriverWait\n",
    "# from selenium.webdriver.common.keys import Keys\n",
    "\n",
    "# import os\n",
    "# import sys\n",
    "# os.system(\"clear\")"
   ]
  },
  {
   "cell_type": "code",
   "execution_count": 4,
   "metadata": {},
   "outputs": [
    {
     "data": {
      "text/html": [
       "<div>\n",
       "<style scoped>\n",
       "    .dataframe tbody tr th:only-of-type {\n",
       "        vertical-align: middle;\n",
       "    }\n",
       "\n",
       "    .dataframe tbody tr th {\n",
       "        vertical-align: top;\n",
       "    }\n",
       "\n",
       "    .dataframe thead th {\n",
       "        text-align: right;\n",
       "    }\n",
       "</style>\n",
       "<table border=\"1\" class=\"dataframe\">\n",
       "  <thead>\n",
       "    <tr style=\"text-align: right;\">\n",
       "      <th></th>\n",
       "      <th>Emotion</th>\n",
       "      <th>Path</th>\n",
       "    </tr>\n",
       "  </thead>\n",
       "  <tbody>\n",
       "    <tr>\n",
       "      <th>3716</th>\n",
       "      <td>female_sad</td>\n",
       "      <td>../SER/CREMA/1006_IOM_SAD_XX.wav</td>\n",
       "    </tr>\n",
       "    <tr>\n",
       "      <th>4666</th>\n",
       "      <td>female_sad</td>\n",
       "      <td>../SER/CREMA/1018_DFA_SAD_XX.wav</td>\n",
       "    </tr>\n",
       "    <tr>\n",
       "      <th>6367</th>\n",
       "      <td>male_fear</td>\n",
       "      <td>../SER/CREMA/1038_TSI_FEA_XX.wav</td>\n",
       "    </tr>\n",
       "    <tr>\n",
       "      <th>2427</th>\n",
       "      <td>female_fear</td>\n",
       "      <td>../SER/TESS Toronto emotional speech set data/...</td>\n",
       "    </tr>\n",
       "    <tr>\n",
       "      <th>9971</th>\n",
       "      <td>female_sad</td>\n",
       "      <td>../SER/CREMA/1082_TIE_SAD_XX.wav</td>\n",
       "    </tr>\n",
       "  </tbody>\n",
       "</table>\n",
       "</div>"
      ],
      "text/plain": [
       "          Emotion                                               Path\n",
       "3716   female_sad                   ../SER/CREMA/1006_IOM_SAD_XX.wav\n",
       "4666   female_sad                   ../SER/CREMA/1018_DFA_SAD_XX.wav\n",
       "6367    male_fear                   ../SER/CREMA/1038_TSI_FEA_XX.wav\n",
       "2427  female_fear  ../SER/TESS Toronto emotional speech set data/...\n",
       "9971   female_sad                   ../SER/CREMA/1082_TIE_SAD_XX.wav"
      ]
     },
     "execution_count": 4,
     "metadata": {},
     "output_type": "execute_result"
    }
   ],
   "source": [
    "audio_df = pd.read_csv('combined_data.csv')\n",
    "audio_df.sample(5)"
   ]
  },
  {
   "cell_type": "code",
   "execution_count": 5,
   "metadata": {},
   "outputs": [],
   "source": [
    "audio_df_copy = audio_df.copy()"
   ]
  },
  {
   "cell_type": "code",
   "execution_count": 6,
   "metadata": {},
   "outputs": [
    {
     "data": {
      "text/plain": [
       "array(['male_angry', 'male_disgust', 'male_fear', 'male_happy',\n",
       "       'male_calm', 'male_sad', 'male_surprise', 'female_angry',\n",
       "       'female_disgust', 'female_fear', 'female_happy', 'female_calm',\n",
       "       'female_surprise', 'female_sad'], dtype=object)"
      ]
     },
     "execution_count": 6,
     "metadata": {},
     "output_type": "execute_result"
    }
   ],
   "source": [
    "audio_df.Emotion.unique()"
   ]
  },
  {
   "cell_type": "code",
   "execution_count": 13,
   "metadata": {},
   "outputs": [],
   "source": [
    "todrop = audio_df_copy[audio_df_copy['Emotion']=='male_surprise'].index\n",
    "audio_df_copy.drop(todrop,inplace=True)"
   ]
  },
  {
   "cell_type": "code",
   "execution_count": 29,
   "metadata": {},
   "outputs": [
    {
     "data": {
      "text/plain": [
       "array(['male_angry', 'male_happy', 'male_calm', 'male_sad',\n",
       "       'female_angry', 'female_happy', 'female_calm', 'female_sad'],\n",
       "      dtype=object)"
      ]
     },
     "execution_count": 29,
     "metadata": {},
     "output_type": "execute_result"
    }
   ],
   "source": [
    "audio_df_copy.Emotion.unique()"
   ]
  },
  {
   "cell_type": "code",
   "execution_count": 31,
   "metadata": {},
   "outputs": [],
   "source": [
    "audio_df_copy.to_csv('modeldata.csv')"
   ]
  },
  {
   "cell_type": "code",
   "execution_count": 15,
   "metadata": {},
   "outputs": [],
   "source": [
    "def prepare_data(df, n, mfcc):\n",
    "    sampling_rate=44100\n",
    "    audio_duration=2.5\n",
    "\n",
    "\n",
    "    X = np.empty(shape=(df.shape[0], n, 216, 1))\n",
    "    input_length = sampling_rate * audio_duration\n",
    "    \n",
    "    cnt = 0\n",
    "    for fname in tqdm(df.Path):\n",
    "        file_path = fname\n",
    "        data, _ = librosa.load(file_path, sr=sampling_rate\n",
    "                               ,res_type=\"kaiser_fast\"\n",
    "                               ,duration=2.5\n",
    "                               ,offset=0.5\n",
    "                              )\n",
    "\n",
    "        # Random offset / Padding\n",
    "        if len(data) > input_length:\n",
    "            max_offset = len(data) - input_length\n",
    "            offset = np.random.randint(max_offset)\n",
    "            data = data[offset:(input_length+offset)]\n",
    "        else:\n",
    "            if input_length > len(data):\n",
    "                max_offset = input_length - len(data)\n",
    "                offset = np.random.randint(max_offset)\n",
    "            else:\n",
    "                offset = 0\n",
    "            data = np.pad(data, (offset, int(input_length) - len(data) - offset), \"constant\")\n",
    "\n",
    "                \n",
    "        # which feature?\n",
    "        if mfcc == 1:\n",
    "            # MFCC extraction \n",
    "            MFCC = librosa.feature.mfcc(data, sr=sampling_rate, n_mfcc=n)\n",
    "            MFCC = np.expand_dims(MFCC, axis=-1)\n",
    "            X[cnt,] = MFCC\n",
    "            \n",
    "        else:\n",
    "            # Log-melspectogram\n",
    "            melspec = librosa.feature.melspectrogram(data, n_mels = n_melspec)   \n",
    "            logspec = librosa.amplitude_to_db(melspec)\n",
    "            logspec = np.expand_dims(logspec, axis=-1)\n",
    "            X[cnt,] = logspec\n",
    "            \n",
    "        cnt += 1\n",
    "    \n",
    "    return X\n"
   ]
  },
  {
   "cell_type": "code",
   "execution_count": 16,
   "metadata": {},
   "outputs": [
    {
     "name": "stderr",
     "output_type": "stream",
     "text": [
      "100%|██████████| 7664/7664 [10:16<00:00, 12.43it/s]\n"
     ]
    }
   ],
   "source": [
    "n_mfcc = 30\n",
    "mfcc = prepare_data(audio_df_copy, n = n_mfcc, mfcc = 1)"
   ]
  },
  {
   "cell_type": "code",
   "execution_count": 34,
   "metadata": {},
   "outputs": [],
   "source": [
    "#  Split between train and test \n",
    "X_train, X_test, y_train, y_test = train_test_split(mfcc\n",
    "                                                    , audio_df_copy.Emotion\n",
    "                                                    , test_size=0.25\n",
    "                                                    , shuffle=True\n",
    "                                                    , random_state=42\n",
    "                                                   )\n",
    "\n",
    "\n",
    "# one hot encode the target \n",
    "\n"
   ]
  },
  {
   "cell_type": "code",
   "execution_count": null,
   "metadata": {},
   "outputs": [],
   "source": [
    "lb = LabelEncoder()\n",
    "y_train = np_utils.to_categorical(lb.fit_transform(y_train))\n",
    "y_test = np_utils.to_categorical(lb.fit_transform(y_test))"
   ]
  },
  {
   "cell_type": "code",
   "execution_count": 44,
   "metadata": {},
   "outputs": [],
   "source": [
    "y_test2=y_train\n"
   ]
  },
  {
   "cell_type": "code",
   "execution_count": 45,
   "metadata": {},
   "outputs": [],
   "source": [
    "y_test2.to_csv('target.csv',index=False)"
   ]
  },
  {
   "cell_type": "code",
   "execution_count": 46,
   "metadata": {},
   "outputs": [],
   "source": [
    "test1= pd.read_csv('../SER/target.csv')"
   ]
  },
  {
   "cell_type": "code",
   "execution_count": 47,
   "metadata": {},
   "outputs": [
    {
     "data": {
      "text/plain": [
       "array([[0., 0., 0., ..., 0., 0., 0.],\n",
       "       [0., 0., 0., ..., 0., 1., 0.],\n",
       "       [0., 0., 0., ..., 0., 1., 0.],\n",
       "       ...,\n",
       "       [0., 1., 0., ..., 0., 0., 0.],\n",
       "       [0., 0., 0., ..., 1., 0., 0.],\n",
       "       [0., 1., 0., ..., 0., 0., 0.]], dtype=float32)"
      ]
     },
     "execution_count": 47,
     "metadata": {},
     "output_type": "execute_result"
    }
   ],
   "source": [
    "test1= pd.read_csv('../SER/target.csv')\n",
    "lb2 = LabelEncoder()\n",
    "y_train2 = np_utils.to_categorical(lb2.fit_transform(test1))\n",
    "y_train2"
   ]
  },
  {
   "cell_type": "code",
   "execution_count": 19,
   "metadata": {},
   "outputs": [
    {
     "name": "stdout",
     "output_type": "stream",
     "text": [
      "Epoch 1/150\n",
      "180/180 - 459s - loss: 1.8054 - acc: 0.3112 - val_loss: 2.3451 - val_acc: 0.2584 - 459s/epoch - 3s/step\n",
      "Epoch 2/150\n",
      "180/180 - 444s - loss: 1.2877 - acc: 0.5064 - val_loss: 1.1286 - val_acc: 0.5945 - 444s/epoch - 2s/step\n",
      "Epoch 3/150\n",
      "180/180 - 440s - loss: 1.1127 - acc: 0.5729 - val_loss: 2.0284 - val_acc: 0.2991 - 440s/epoch - 2s/step\n",
      "Epoch 4/150\n",
      "180/180 - 440s - loss: 1.0112 - acc: 0.6131 - val_loss: 1.0774 - val_acc: 0.5814 - 440s/epoch - 2s/step\n",
      "Epoch 5/150\n",
      "180/180 - 438s - loss: 0.9377 - acc: 0.6336 - val_loss: 1.3005 - val_acc: 0.5219 - 438s/epoch - 2s/step\n",
      "Epoch 6/150\n",
      "180/180 - 469s - loss: 0.8923 - acc: 0.6656 - val_loss: 0.8508 - val_acc: 0.6759 - 469s/epoch - 3s/step\n",
      "Epoch 7/150\n",
      "180/180 - 444s - loss: 0.8429 - acc: 0.6806 - val_loss: 2.5183 - val_acc: 0.3523 - 444s/epoch - 2s/step\n",
      "Epoch 8/150\n",
      "180/180 - 442s - loss: 0.8243 - acc: 0.6820 - val_loss: 1.4200 - val_acc: 0.4572 - 442s/epoch - 2s/step\n",
      "Epoch 9/150\n",
      "180/180 - 440s - loss: 0.7769 - acc: 0.7015 - val_loss: 0.7859 - val_acc: 0.6816 - 440s/epoch - 2s/step\n",
      "Epoch 10/150\n",
      "180/180 - 438s - loss: 0.7391 - acc: 0.7180 - val_loss: 0.8411 - val_acc: 0.6738 - 438s/epoch - 2s/step\n",
      "Epoch 11/150\n",
      "180/180 - 441s - loss: 0.7224 - acc: 0.7196 - val_loss: 1.0203 - val_acc: 0.6352 - 441s/epoch - 2s/step\n",
      "Epoch 12/150\n",
      "180/180 - 439s - loss: 0.7066 - acc: 0.7270 - val_loss: 0.6774 - val_acc: 0.7302 - 439s/epoch - 2s/step\n",
      "Epoch 13/150\n",
      "180/180 - 440s - loss: 0.6716 - acc: 0.7408 - val_loss: 0.7017 - val_acc: 0.7281 - 440s/epoch - 2s/step\n",
      "Epoch 14/150\n",
      "180/180 - 439s - loss: 0.6694 - acc: 0.7436 - val_loss: 1.0569 - val_acc: 0.6106 - 439s/epoch - 2s/step\n",
      "Epoch 15/150\n",
      "180/180 - 524s - loss: 0.6264 - acc: 0.7657 - val_loss: 0.6653 - val_acc: 0.7317 - 524s/epoch - 3s/step\n",
      "Epoch 16/150\n",
      "180/180 - 672s - loss: 0.6172 - acc: 0.7610 - val_loss: 0.6544 - val_acc: 0.7390 - 672s/epoch - 4s/step\n",
      "Epoch 17/150\n",
      "180/180 - 669s - loss: 0.5897 - acc: 0.7705 - val_loss: 0.7050 - val_acc: 0.7364 - 669s/epoch - 4s/step\n",
      "Epoch 18/150\n",
      "180/180 - 671s - loss: 0.5623 - acc: 0.7865 - val_loss: 1.0253 - val_acc: 0.6294 - 671s/epoch - 4s/step\n",
      "Epoch 19/150\n",
      "180/180 - 670s - loss: 0.5619 - acc: 0.7865 - val_loss: 0.8749 - val_acc: 0.6681 - 670s/epoch - 4s/step\n",
      "Epoch 20/150\n",
      "180/180 - 671s - loss: 0.5412 - acc: 0.7980 - val_loss: 0.6630 - val_acc: 0.7349 - 671s/epoch - 4s/step\n",
      "Epoch 21/150\n",
      "180/180 - 671s - loss: 0.5288 - acc: 0.8017 - val_loss: 0.6804 - val_acc: 0.7239 - 671s/epoch - 4s/step\n",
      "Epoch 22/150\n",
      "180/180 - 669s - loss: 0.4939 - acc: 0.8055 - val_loss: 0.7685 - val_acc: 0.7051 - 669s/epoch - 4s/step\n",
      "Epoch 23/150\n",
      "180/180 - 634s - loss: 0.4836 - acc: 0.8178 - val_loss: 0.8174 - val_acc: 0.6931 - 634s/epoch - 4s/step\n",
      "Epoch 24/150\n",
      "180/180 - 439s - loss: 0.4612 - acc: 0.8276 - val_loss: 1.0372 - val_acc: 0.6326 - 439s/epoch - 2s/step\n",
      "Epoch 25/150\n",
      "180/180 - 445s - loss: 0.4424 - acc: 0.8370 - val_loss: 0.6805 - val_acc: 0.7516 - 445s/epoch - 2s/step\n",
      "Epoch 26/150\n",
      "180/180 - 446s - loss: 0.4480 - acc: 0.8323 - val_loss: 0.7835 - val_acc: 0.7213 - 446s/epoch - 2s/step\n",
      "Epoch 27/150\n",
      "180/180 - 445s - loss: 0.4227 - acc: 0.8426 - val_loss: 0.9950 - val_acc: 0.6561 - 445s/epoch - 2s/step\n",
      "Epoch 28/150\n",
      "180/180 - 444s - loss: 0.3992 - acc: 0.8553 - val_loss: 0.8425 - val_acc: 0.7239 - 444s/epoch - 2s/step\n",
      "Epoch 29/150\n",
      "180/180 - 441s - loss: 0.3979 - acc: 0.8516 - val_loss: 0.6652 - val_acc: 0.7584 - 441s/epoch - 2s/step\n",
      "Epoch 30/150\n",
      "180/180 - 652s - loss: 0.3869 - acc: 0.8584 - val_loss: 0.9734 - val_acc: 0.6868 - 652s/epoch - 4s/step\n",
      "Epoch 31/150\n",
      "180/180 - 670s - loss: 0.3515 - acc: 0.8732 - val_loss: 0.7053 - val_acc: 0.7312 - 670s/epoch - 4s/step\n",
      "Epoch 32/150\n",
      "180/180 - 671s - loss: 0.3593 - acc: 0.8666 - val_loss: 0.7173 - val_acc: 0.7265 - 671s/epoch - 4s/step\n",
      "Epoch 33/150\n",
      "180/180 - 668s - loss: 0.3363 - acc: 0.8773 - val_loss: 0.6869 - val_acc: 0.7458 - 668s/epoch - 4s/step\n",
      "Epoch 34/150\n",
      "180/180 - 674s - loss: 0.3330 - acc: 0.8733 - val_loss: 0.9922 - val_acc: 0.6628 - 674s/epoch - 4s/step\n",
      "Epoch 35/150\n",
      "180/180 - 671s - loss: 0.3171 - acc: 0.8843 - val_loss: 0.7020 - val_acc: 0.7484 - 671s/epoch - 4s/step\n",
      "Epoch 36/150\n",
      "180/180 - 590s - loss: 0.3173 - acc: 0.8843 - val_loss: 0.6455 - val_acc: 0.7808 - 590s/epoch - 3s/step\n",
      "Epoch 37/150\n",
      "180/180 - 444s - loss: 0.2889 - acc: 0.8954 - val_loss: 0.8757 - val_acc: 0.7135 - 444s/epoch - 2s/step\n",
      "Epoch 38/150\n",
      "180/180 - 454s - loss: 0.3007 - acc: 0.8914 - val_loss: 0.7704 - val_acc: 0.7510 - 454s/epoch - 3s/step\n",
      "Epoch 39/150\n",
      "180/180 - 455s - loss: 0.2671 - acc: 0.9047 - val_loss: 0.9767 - val_acc: 0.7056 - 455s/epoch - 3s/step\n",
      "Epoch 40/150\n",
      "180/180 - 455s - loss: 0.2712 - acc: 0.9055 - val_loss: 0.6811 - val_acc: 0.7646 - 455s/epoch - 3s/step\n",
      "Epoch 41/150\n",
      "180/180 - 454s - loss: 0.2585 - acc: 0.9048 - val_loss: 0.6513 - val_acc: 0.7766 - 454s/epoch - 3s/step\n",
      "Epoch 42/150\n",
      "180/180 - 457s - loss: 0.2536 - acc: 0.9066 - val_loss: 0.7318 - val_acc: 0.7735 - 457s/epoch - 3s/step\n",
      "Epoch 43/150\n",
      "180/180 - 448s - loss: 0.2400 - acc: 0.9120 - val_loss: 0.8231 - val_acc: 0.7453 - 448s/epoch - 2s/step\n",
      "Epoch 44/150\n",
      "180/180 - 448s - loss: 0.2448 - acc: 0.9102 - val_loss: 0.7539 - val_acc: 0.7484 - 448s/epoch - 2s/step\n",
      "Epoch 45/150\n",
      "180/180 - 476s - loss: 0.2435 - acc: 0.9142 - val_loss: 0.8218 - val_acc: 0.7286 - 476s/epoch - 3s/step\n",
      "Epoch 46/150\n",
      "180/180 - 672s - loss: 0.2284 - acc: 0.9165 - val_loss: 0.7076 - val_acc: 0.7584 - 672s/epoch - 4s/step\n",
      "Epoch 47/150\n",
      "180/180 - 668s - loss: 0.2096 - acc: 0.9238 - val_loss: 0.7403 - val_acc: 0.7662 - 668s/epoch - 4s/step\n",
      "Epoch 48/150\n",
      "180/180 - 675s - loss: 0.2120 - acc: 0.9238 - val_loss: 0.7550 - val_acc: 0.7521 - 675s/epoch - 4s/step\n",
      "Epoch 49/150\n",
      "180/180 - 673s - loss: 0.2039 - acc: 0.9280 - val_loss: 0.7432 - val_acc: 0.7714 - 673s/epoch - 4s/step\n",
      "Epoch 50/150\n",
      "180/180 - 547s - loss: 0.1853 - acc: 0.9332 - val_loss: 0.7299 - val_acc: 0.7573 - 547s/epoch - 3s/step\n",
      "Epoch 51/150\n",
      "180/180 - 441s - loss: 0.1975 - acc: 0.9280 - val_loss: 0.7751 - val_acc: 0.7672 - 441s/epoch - 2s/step\n",
      "Epoch 52/150\n",
      "180/180 - 440s - loss: 0.1909 - acc: 0.9351 - val_loss: 0.8430 - val_acc: 0.7479 - 440s/epoch - 2s/step\n",
      "Epoch 53/150\n",
      "180/180 - 456s - loss: 0.1775 - acc: 0.9349 - val_loss: 0.6755 - val_acc: 0.7860 - 456s/epoch - 3s/step\n",
      "Epoch 54/150\n",
      "180/180 - 440s - loss: 0.1667 - acc: 0.9402 - val_loss: 0.8175 - val_acc: 0.7531 - 440s/epoch - 2s/step\n",
      "Epoch 55/150\n",
      "180/180 - 451s - loss: 0.1736 - acc: 0.9398 - val_loss: 0.7247 - val_acc: 0.7745 - 451s/epoch - 3s/step\n",
      "Epoch 56/150\n",
      "180/180 - 441s - loss: 0.1685 - acc: 0.9403 - val_loss: 0.8934 - val_acc: 0.7463 - 441s/epoch - 2s/step\n",
      "Epoch 57/150\n",
      "180/180 - 440s - loss: 0.1730 - acc: 0.9405 - val_loss: 0.7750 - val_acc: 0.7662 - 440s/epoch - 2s/step\n",
      "Epoch 58/150\n",
      "180/180 - 439s - loss: 0.1650 - acc: 0.9426 - val_loss: 0.7846 - val_acc: 0.7740 - 439s/epoch - 2s/step\n",
      "Epoch 59/150\n",
      "180/180 - 442s - loss: 0.1555 - acc: 0.9480 - val_loss: 0.8001 - val_acc: 0.7657 - 442s/epoch - 2s/step\n",
      "Epoch 60/150\n",
      "180/180 - 440s - loss: 0.1706 - acc: 0.9403 - val_loss: 0.8364 - val_acc: 0.7594 - 440s/epoch - 2s/step\n",
      "Epoch 61/150\n",
      "180/180 - 443s - loss: 0.1559 - acc: 0.9442 - val_loss: 0.7731 - val_acc: 0.7657 - 443s/epoch - 2s/step\n",
      "Epoch 62/150\n",
      "180/180 - 439s - loss: 0.1726 - acc: 0.9421 - val_loss: 0.7925 - val_acc: 0.7751 - 439s/epoch - 2s/step\n",
      "Epoch 63/150\n",
      "180/180 - 441s - loss: 0.1421 - acc: 0.9497 - val_loss: 0.9443 - val_acc: 0.7458 - 441s/epoch - 2s/step\n",
      "Epoch 64/150\n",
      "180/180 - 440s - loss: 0.1484 - acc: 0.9509 - val_loss: 0.9273 - val_acc: 0.7401 - 440s/epoch - 2s/step\n",
      "Epoch 65/150\n",
      "180/180 - 439s - loss: 0.1314 - acc: 0.9546 - val_loss: 0.8041 - val_acc: 0.7818 - 439s/epoch - 2s/step\n",
      "Epoch 66/150\n",
      "180/180 - 439s - loss: 0.1371 - acc: 0.9515 - val_loss: 0.9907 - val_acc: 0.7463 - 439s/epoch - 2s/step\n",
      "Epoch 67/150\n",
      "180/180 - 441s - loss: 0.1536 - acc: 0.9461 - val_loss: 0.8807 - val_acc: 0.7531 - 441s/epoch - 2s/step\n",
      "Epoch 68/150\n",
      "180/180 - 458s - loss: 0.1341 - acc: 0.9542 - val_loss: 1.2026 - val_acc: 0.7046 - 458s/epoch - 3s/step\n",
      "Epoch 69/150\n",
      "180/180 - 448s - loss: 0.1445 - acc: 0.9502 - val_loss: 0.8413 - val_acc: 0.7683 - 448s/epoch - 2s/step\n",
      "Epoch 70/150\n",
      "180/180 - 440s - loss: 0.1380 - acc: 0.9482 - val_loss: 0.9676 - val_acc: 0.7484 - 440s/epoch - 2s/step\n",
      "Epoch 71/150\n",
      "180/180 - 440s - loss: 0.1250 - acc: 0.9539 - val_loss: 0.7939 - val_acc: 0.7824 - 440s/epoch - 2s/step\n",
      "Epoch 72/150\n",
      "180/180 - 442s - loss: 0.1261 - acc: 0.9548 - val_loss: 0.9077 - val_acc: 0.7756 - 442s/epoch - 2s/step\n",
      "Epoch 73/150\n",
      "180/180 - 440s - loss: 0.1272 - acc: 0.9579 - val_loss: 1.2420 - val_acc: 0.7082 - 440s/epoch - 2s/step\n",
      "Epoch 74/150\n",
      "180/180 - 439s - loss: 0.1272 - acc: 0.9577 - val_loss: 0.8605 - val_acc: 0.7688 - 439s/epoch - 2s/step\n",
      "Epoch 75/150\n",
      "180/180 - 440s - loss: 0.1165 - acc: 0.9598 - val_loss: 0.9701 - val_acc: 0.7479 - 440s/epoch - 2s/step\n",
      "Epoch 76/150\n",
      "180/180 - 438s - loss: 0.1236 - acc: 0.9581 - val_loss: 0.9866 - val_acc: 0.7677 - 438s/epoch - 2s/step\n",
      "Epoch 77/150\n",
      "180/180 - 438s - loss: 0.1235 - acc: 0.9576 - val_loss: 0.8212 - val_acc: 0.7677 - 438s/epoch - 2s/step\n",
      "Epoch 78/150\n",
      "180/180 - 440s - loss: 0.1040 - acc: 0.9643 - val_loss: 1.0491 - val_acc: 0.7443 - 440s/epoch - 2s/step\n",
      "Epoch 79/150\n",
      "180/180 - 440s - loss: 0.1131 - acc: 0.9614 - val_loss: 0.8479 - val_acc: 0.7829 - 440s/epoch - 2s/step\n",
      "Epoch 80/150\n",
      "180/180 - 440s - loss: 0.1220 - acc: 0.9579 - val_loss: 1.0797 - val_acc: 0.7573 - 440s/epoch - 2s/step\n",
      "Epoch 81/150\n",
      "180/180 - 440s - loss: 0.1196 - acc: 0.9584 - val_loss: 0.9048 - val_acc: 0.7657 - 440s/epoch - 2s/step\n",
      "Epoch 82/150\n",
      "180/180 - 439s - loss: 0.0981 - acc: 0.9671 - val_loss: 0.9516 - val_acc: 0.7505 - 439s/epoch - 2s/step\n",
      "Epoch 83/150\n",
      "180/180 - 440s - loss: 0.1054 - acc: 0.9622 - val_loss: 1.1486 - val_acc: 0.7317 - 440s/epoch - 2s/step\n",
      "Epoch 84/150\n",
      "180/180 - 439s - loss: 0.1097 - acc: 0.9621 - val_loss: 0.8061 - val_acc: 0.7630 - 439s/epoch - 2s/step\n",
      "Epoch 85/150\n",
      "180/180 - 439s - loss: 0.0980 - acc: 0.9669 - val_loss: 1.1667 - val_acc: 0.7229 - 439s/epoch - 2s/step\n",
      "Epoch 86/150\n",
      "180/180 - 440s - loss: 0.1233 - acc: 0.9588 - val_loss: 0.7795 - val_acc: 0.7834 - 440s/epoch - 2s/step\n",
      "Epoch 87/150\n",
      "180/180 - 443s - loss: 0.0988 - acc: 0.9664 - val_loss: 1.0764 - val_acc: 0.7537 - 443s/epoch - 2s/step\n",
      "Epoch 88/150\n",
      "180/180 - 439s - loss: 0.0946 - acc: 0.9678 - val_loss: 0.8902 - val_acc: 0.7709 - 439s/epoch - 2s/step\n",
      "Epoch 89/150\n",
      "180/180 - 444s - loss: 0.0954 - acc: 0.9671 - val_loss: 1.1020 - val_acc: 0.7443 - 444s/epoch - 2s/step\n",
      "Epoch 90/150\n",
      "180/180 - 438s - loss: 0.1074 - acc: 0.9643 - val_loss: 0.9785 - val_acc: 0.7521 - 438s/epoch - 2s/step\n",
      "Epoch 91/150\n",
      "180/180 - 439s - loss: 0.1154 - acc: 0.9609 - val_loss: 0.8517 - val_acc: 0.7615 - 439s/epoch - 2s/step\n",
      "Epoch 92/150\n",
      "180/180 - 440s - loss: 0.1180 - acc: 0.9609 - val_loss: 0.8285 - val_acc: 0.7787 - 440s/epoch - 2s/step\n",
      "Epoch 93/150\n",
      "180/180 - 438s - loss: 0.0982 - acc: 0.9638 - val_loss: 0.8027 - val_acc: 0.7761 - 438s/epoch - 2s/step\n",
      "Epoch 94/150\n",
      "180/180 - 439s - loss: 0.0952 - acc: 0.9652 - val_loss: 0.8979 - val_acc: 0.7803 - 439s/epoch - 2s/step\n",
      "Epoch 95/150\n",
      "180/180 - 439s - loss: 0.0977 - acc: 0.9647 - val_loss: 0.9097 - val_acc: 0.7709 - 439s/epoch - 2s/step\n",
      "Epoch 96/150\n",
      "180/180 - 440s - loss: 0.0885 - acc: 0.9685 - val_loss: 0.9904 - val_acc: 0.7620 - 440s/epoch - 2s/step\n",
      "Epoch 97/150\n",
      "180/180 - 439s - loss: 0.0910 - acc: 0.9652 - val_loss: 0.8657 - val_acc: 0.7771 - 439s/epoch - 2s/step\n",
      "Epoch 98/150\n",
      "180/180 - 439s - loss: 0.0943 - acc: 0.9682 - val_loss: 1.0163 - val_acc: 0.7584 - 439s/epoch - 2s/step\n",
      "Epoch 99/150\n",
      "180/180 - 437s - loss: 0.0940 - acc: 0.9697 - val_loss: 0.9280 - val_acc: 0.7625 - 437s/epoch - 2s/step\n",
      "Epoch 100/150\n",
      "180/180 - 442s - loss: 0.0874 - acc: 0.9701 - val_loss: 0.9101 - val_acc: 0.7578 - 442s/epoch - 2s/step\n",
      "Epoch 101/150\n",
      "180/180 - 438s - loss: 0.0949 - acc: 0.9690 - val_loss: 1.0144 - val_acc: 0.7495 - 438s/epoch - 2s/step\n",
      "Epoch 102/150\n",
      "180/180 - 441s - loss: 0.0913 - acc: 0.9716 - val_loss: 0.8587 - val_acc: 0.7839 - 441s/epoch - 2s/step\n",
      "Epoch 103/150\n",
      "180/180 - 437s - loss: 0.0871 - acc: 0.9699 - val_loss: 0.8641 - val_acc: 0.7829 - 437s/epoch - 2s/step\n",
      "Epoch 104/150\n",
      "180/180 - 444s - loss: 0.1025 - acc: 0.9666 - val_loss: 0.9002 - val_acc: 0.7719 - 444s/epoch - 2s/step\n",
      "Epoch 105/150\n",
      "180/180 - 441s - loss: 0.0938 - acc: 0.9697 - val_loss: 0.9796 - val_acc: 0.7573 - 441s/epoch - 2s/step\n",
      "Epoch 106/150\n",
      "180/180 - 438s - loss: 0.0809 - acc: 0.9699 - val_loss: 0.9313 - val_acc: 0.7782 - 438s/epoch - 2s/step\n",
      "Epoch 107/150\n",
      "180/180 - 438s - loss: 0.0723 - acc: 0.9753 - val_loss: 1.0682 - val_acc: 0.7651 - 438s/epoch - 2s/step\n",
      "Epoch 108/150\n",
      "180/180 - 440s - loss: 0.0892 - acc: 0.9692 - val_loss: 0.9760 - val_acc: 0.7479 - 440s/epoch - 2s/step\n",
      "Epoch 109/150\n",
      "180/180 - 441s - loss: 0.0733 - acc: 0.9753 - val_loss: 0.9123 - val_acc: 0.7578 - 441s/epoch - 2s/step\n",
      "Epoch 110/150\n",
      "180/180 - 439s - loss: 0.0872 - acc: 0.9727 - val_loss: 0.9929 - val_acc: 0.7818 - 439s/epoch - 2s/step\n",
      "Epoch 111/150\n",
      "180/180 - 439s - loss: 0.0837 - acc: 0.9729 - val_loss: 0.9191 - val_acc: 0.7782 - 439s/epoch - 2s/step\n",
      "Epoch 112/150\n",
      "180/180 - 440s - loss: 0.0882 - acc: 0.9676 - val_loss: 0.9501 - val_acc: 0.7719 - 440s/epoch - 2s/step\n",
      "Epoch 113/150\n",
      "180/180 - 443s - loss: 0.0897 - acc: 0.9699 - val_loss: 0.9342 - val_acc: 0.7578 - 443s/epoch - 2s/step\n",
      "Epoch 114/150\n",
      "180/180 - 441s - loss: 0.0741 - acc: 0.9755 - val_loss: 0.9567 - val_acc: 0.7808 - 441s/epoch - 2s/step\n",
      "Epoch 115/150\n",
      "180/180 - 441s - loss: 0.0671 - acc: 0.9779 - val_loss: 0.8948 - val_acc: 0.7813 - 441s/epoch - 2s/step\n",
      "Epoch 116/150\n",
      "180/180 - 440s - loss: 0.0854 - acc: 0.9671 - val_loss: 1.0577 - val_acc: 0.7463 - 440s/epoch - 2s/step\n",
      "Epoch 117/150\n",
      "180/180 - 440s - loss: 0.0845 - acc: 0.9701 - val_loss: 0.9443 - val_acc: 0.7766 - 440s/epoch - 2s/step\n",
      "Epoch 118/150\n",
      "180/180 - 439s - loss: 0.0831 - acc: 0.9713 - val_loss: 1.1094 - val_acc: 0.7578 - 439s/epoch - 2s/step\n",
      "Epoch 119/150\n",
      "180/180 - 440s - loss: 0.0632 - acc: 0.9791 - val_loss: 0.9569 - val_acc: 0.7782 - 440s/epoch - 2s/step\n",
      "Epoch 120/150\n",
      "180/180 - 620s - loss: 0.0791 - acc: 0.9744 - val_loss: 1.0868 - val_acc: 0.7662 - 620s/epoch - 3s/step\n",
      "Epoch 121/150\n",
      "180/180 - 673s - loss: 0.0646 - acc: 0.9763 - val_loss: 1.5006 - val_acc: 0.7124 - 673s/epoch - 4s/step\n",
      "Epoch 122/150\n",
      "180/180 - 673s - loss: 0.0879 - acc: 0.9706 - val_loss: 0.8114 - val_acc: 0.7813 - 673s/epoch - 4s/step\n",
      "Epoch 123/150\n",
      "180/180 - 673s - loss: 0.0846 - acc: 0.9706 - val_loss: 0.8764 - val_acc: 0.7724 - 673s/epoch - 4s/step\n",
      "Epoch 124/150\n",
      "180/180 - 672s - loss: 0.0790 - acc: 0.9730 - val_loss: 0.9463 - val_acc: 0.7824 - 672s/epoch - 4s/step\n",
      "Epoch 125/150\n",
      "180/180 - 677s - loss: 0.0726 - acc: 0.9746 - val_loss: 0.9243 - val_acc: 0.7740 - 677s/epoch - 4s/step\n",
      "Epoch 126/150\n",
      "180/180 - 674s - loss: 0.0626 - acc: 0.9803 - val_loss: 0.9219 - val_acc: 0.7704 - 674s/epoch - 4s/step\n",
      "Epoch 127/150\n",
      "180/180 - 652s - loss: 0.0792 - acc: 0.9746 - val_loss: 1.0337 - val_acc: 0.7751 - 652s/epoch - 4s/step\n",
      "Epoch 128/150\n",
      "180/180 - 441s - loss: 0.0621 - acc: 0.9783 - val_loss: 1.0346 - val_acc: 0.7625 - 441s/epoch - 2s/step\n",
      "Epoch 129/150\n",
      "180/180 - 438s - loss: 0.0564 - acc: 0.9816 - val_loss: 0.9700 - val_acc: 0.7709 - 438s/epoch - 2s/step\n",
      "Epoch 130/150\n",
      "180/180 - 441s - loss: 0.0695 - acc: 0.9760 - val_loss: 0.9858 - val_acc: 0.7730 - 441s/epoch - 2s/step\n",
      "Epoch 131/150\n",
      "180/180 - 439s - loss: 0.0629 - acc: 0.9783 - val_loss: 1.0256 - val_acc: 0.7662 - 439s/epoch - 2s/step\n",
      "Epoch 132/150\n",
      "180/180 - 441s - loss: 0.0823 - acc: 0.9711 - val_loss: 1.2103 - val_acc: 0.7610 - 441s/epoch - 2s/step\n",
      "Epoch 133/150\n",
      "180/180 - 439s - loss: 0.0881 - acc: 0.9690 - val_loss: 1.1973 - val_acc: 0.7578 - 439s/epoch - 2s/step\n",
      "Epoch 134/150\n",
      "180/180 - 444s - loss: 0.0709 - acc: 0.9749 - val_loss: 1.0706 - val_acc: 0.7771 - 444s/epoch - 2s/step\n",
      "Epoch 135/150\n",
      "180/180 - 439s - loss: 0.0701 - acc: 0.9769 - val_loss: 0.9511 - val_acc: 0.7756 - 439s/epoch - 2s/step\n",
      "Epoch 136/150\n",
      "180/180 - 439s - loss: 0.0751 - acc: 0.9730 - val_loss: 0.9616 - val_acc: 0.7531 - 439s/epoch - 2s/step\n",
      "Epoch 137/150\n",
      "180/180 - 440s - loss: 0.0729 - acc: 0.9755 - val_loss: 1.2270 - val_acc: 0.7443 - 440s/epoch - 2s/step\n",
      "Epoch 138/150\n",
      "180/180 - 440s - loss: 0.0722 - acc: 0.9758 - val_loss: 1.0108 - val_acc: 0.7578 - 440s/epoch - 2s/step\n",
      "Epoch 139/150\n",
      "180/180 - 439s - loss: 0.0630 - acc: 0.9789 - val_loss: 1.0466 - val_acc: 0.7766 - 439s/epoch - 2s/step\n",
      "Epoch 140/150\n",
      "180/180 - 439s - loss: 0.0788 - acc: 0.9753 - val_loss: 0.9662 - val_acc: 0.7740 - 439s/epoch - 2s/step\n",
      "Epoch 141/150\n",
      "180/180 - 439s - loss: 0.0657 - acc: 0.9786 - val_loss: 0.9867 - val_acc: 0.7782 - 439s/epoch - 2s/step\n",
      "Epoch 142/150\n",
      "180/180 - 440s - loss: 0.0615 - acc: 0.9796 - val_loss: 0.9374 - val_acc: 0.7860 - 440s/epoch - 2s/step\n",
      "Epoch 143/150\n",
      "180/180 - 438s - loss: 0.0605 - acc: 0.9788 - val_loss: 1.0034 - val_acc: 0.7615 - 438s/epoch - 2s/step\n",
      "Epoch 144/150\n",
      "180/180 - 440s - loss: 0.0590 - acc: 0.9796 - val_loss: 1.0438 - val_acc: 0.7651 - 440s/epoch - 2s/step\n",
      "Epoch 145/150\n",
      "180/180 - 440s - loss: 0.0620 - acc: 0.9783 - val_loss: 0.9041 - val_acc: 0.7818 - 440s/epoch - 2s/step\n",
      "Epoch 146/150\n",
      "180/180 - 440s - loss: 0.0670 - acc: 0.9770 - val_loss: 1.1318 - val_acc: 0.7589 - 440s/epoch - 2s/step\n",
      "Epoch 147/150\n",
      "180/180 - 441s - loss: 0.0645 - acc: 0.9776 - val_loss: 0.9749 - val_acc: 0.7589 - 441s/epoch - 2s/step\n",
      "Epoch 148/150\n",
      "180/180 - 440s - loss: 0.0692 - acc: 0.9788 - val_loss: 1.0107 - val_acc: 0.7771 - 440s/epoch - 2s/step\n",
      "Epoch 149/150\n",
      "180/180 - 441s - loss: 0.0514 - acc: 0.9842 - val_loss: 1.1245 - val_acc: 0.7589 - 441s/epoch - 2s/step\n",
      "Epoch 150/150\n",
      "180/180 - 441s - loss: 0.0543 - acc: 0.9823 - val_loss: 1.0077 - val_acc: 0.7714 - 441s/epoch - 2s/step\n"
     ]
    }
   ],
   "source": [
    "\n",
    "# Normalization as per the standard NN process\n",
    "def get_2d_conv_model(n):\n",
    "    ''' Create a standard deep 2D convolutional neural network'''\n",
    "    nclass = 8\n",
    "    inp = Input(shape=(n,216,1))  #2D matrix of 30 MFCC bands by 216 audio length.\n",
    "    x = Convolution2D(128, (2,10), padding=\"same\")(inp)\n",
    "    x = BatchNormalization()(x)\n",
    "    x = Activation(\"relu\")(x)\n",
    "    x = MaxPool2D()(x)\n",
    "    x = Dropout(rate=0.2)(x)\n",
    "    \n",
    "    x = Convolution2D(128, (2,10), padding=\"same\")(x)\n",
    "    x = BatchNormalization()(x)\n",
    "    x = Activation(\"relu\")(x)\n",
    "    x = MaxPool2D()(x)\n",
    "    x = Dropout(rate=0.2)(x)\n",
    "    \n",
    "    x = Convolution2D(64\n",
    "    , (2,10), padding=\"same\")(x)\n",
    "    x = BatchNormalization()(x)\n",
    "    x = Activation(\"relu\")(x)\n",
    "    x = MaxPool2D()(x)\n",
    "    x = Dropout(rate=0.2)(x)\n",
    "    \n",
    "    x = Convolution2D(64\n",
    "    , (2,10), padding=\"same\")(x)\n",
    "    x = BatchNormalization()(x)\n",
    "    x = Activation(\"relu\")(x)\n",
    "    x = MaxPool2D()(x)\n",
    "    x = Dropout(rate=0.2)(x)\n",
    "    \n",
    "    x = Flatten()(x)\n",
    "    x = Dense(64)(x)\n",
    "    x = Dropout(rate=0.2)(x)\n",
    "    x = BatchNormalization()(x)\n",
    "    x = Activation(\"relu\")(x)\n",
    "    x = Dropout(rate=0.2)(x)\n",
    "    \n",
    "    out = Dense(nclass, activation=softmax)(x)\n",
    "    model = models.Model(inputs=inp, outputs=out)\n",
    "    \n",
    "    opt = optimizers.Adam(0.001)\n",
    "    model.compile(optimizer=opt, loss=losses.categorical_crossentropy, metrics=['acc'])\n",
    "    return model\n",
    "\n",
    "# Build CNN model \n",
    "model = get_2d_conv_model(n=n_mfcc)\n",
    "model_history = model.fit(X_train, y_train, validation_data=(X_test, y_test), \n",
    "                    batch_size=32, verbose = 2, epochs=150)"
   ]
  },
  {
   "cell_type": "code",
   "execution_count": 20,
   "metadata": {},
   "outputs": [
    {
     "data": {
      "image/png": "[encoded data removed]",
      "text/plain": [
       "<Figure size 432x288 with 1 Axes>"
      ]
     },
     "metadata": {
      "needs_background": "light"
     },
     "output_type": "display_data"
    }
   ],
   "source": [
    "plt.plot(model_history.history['loss'])\n",
    "plt.plot(model_history.history['val_loss'])\n",
    "plt.title('model loss')\n",
    "plt.ylabel('loss')\n",
    "plt.xlabel('epoch')\n",
    "plt.legend(['train', 'test'], loc='upper right')\n",
    "plt.show()"
   ]
  },
  {
   "cell_type": "code",
   "execution_count": 21,
   "metadata": {},
   "outputs": [
    {
     "name": "stdout",
     "output_type": "stream",
     "text": [
      "Saved model to disk\n"
     ]
    }
   ],
   "source": [
    "# serialize model to JSON\n",
    "saved_model = model.to_json()\n",
    "with open(\"model.json\", \"w\") as json_file:\n",
    "    json_file.write(saved_model)\n",
    "# serialize weights to HDF5\n",
    "model.save_weights(\"model.h5\")\n",
    "print(\"Saved model to disk\")"
   ]
  },
  {
   "cell_type": "code",
   "execution_count": 22,
   "metadata": {},
   "outputs": [
    {
     "name": "stdout",
     "output_type": "stream",
     "text": [
      "Loaded model from disk\n"
     ]
    }
   ],
   "source": [
    "json_file = open('model.json', 'r')\n",
    "loaded_model_json = json_file.read()\n",
    "json_file.close()\n",
    "loaded_model = model_from_json(loaded_model_json)\n",
    "# load weights into new model\n",
    "loaded_model.load_weights(\"model.h5\")\n",
    "print(\"Loaded model from disk\")"
   ]
  },
  {
   "cell_type": "code",
   "execution_count": 32,
   "metadata": {},
   "outputs": [],
   "source": [
    "# # evaluate loaded model on test data\n",
    "# loaded_model.compile(loss='categorical_crossentropy', optimizer='opt', metrics=['acc'])\n",
    "# score = loaded_model.evaluate(X_test, y_test, verbose=0)\n",
    "# print(\"%s: %.2f%%\" % (loaded_model.metrics_names[1], score[1]*100))"
   ]
  },
  {
   "cell_type": "code",
   "execution_count": 23,
   "metadata": {},
   "outputs": [
    {
     "name": "stdout",
     "output_type": "stream",
     "text": [
      "120/120 [==============================] - 61s 499ms/step\n"
     ]
    },
    {
     "data": {
      "text/plain": [
       "array([6, 0, 5, ..., 6, 5, 0], dtype=int64)"
      ]
     },
     "execution_count": 23,
     "metadata": {},
     "output_type": "execute_result"
    }
   ],
   "source": [
    "preds = loaded_model.predict(X_test, \n",
    "                         batch_size=16, \n",
    "                         verbose=1)\n",
    "\n",
    "preds=preds.argmax(axis=1)\n",
    "preds"
   ]
  },
  {
   "cell_type": "code",
   "execution_count": 24,
   "metadata": {},
   "outputs": [],
   "source": [
    "preds = preds.astype(int).flatten()\n",
    "preds = (lb.inverse_transform((preds)))\n",
    "preds = pd.DataFrame({'predictedvalues': preds})\n",
    "\n",
    "\n",
    "# Actual labels\n",
    "actual=y_test.argmax(axis=1)\n",
    "actual = actual.astype(int).flatten()\n",
    "actual = (lb.inverse_transform((actual)))\n",
    "actual = pd.DataFrame({'actualvalues': actual})\n",
    "\n",
    "# Lets combined both of them into a single dataframe\n",
    "finaldf = actual.join(preds)"
   ]
  },
  {
   "cell_type": "code",
   "execution_count": 343,
   "metadata": {},
   "outputs": [
    {
     "data": {
      "text/html": [
       "<div>\n",
       "<style scoped>\n",
       "    .dataframe tbody tr th:only-of-type {\n",
       "        vertical-align: middle;\n",
       "    }\n",
       "\n",
       "    .dataframe tbody tr th {\n",
       "        vertical-align: top;\n",
       "    }\n",
       "\n",
       "    .dataframe thead th {\n",
       "        text-align: right;\n",
       "    }\n",
       "</style>\n",
       "<table border=\"1\" class=\"dataframe\">\n",
       "  <thead>\n",
       "    <tr style=\"text-align: right;\">\n",
       "      <th></th>\n",
       "      <th>actualvalues</th>\n",
       "      <th>predictedvalues</th>\n",
       "    </tr>\n",
       "  </thead>\n",
       "  <tbody>\n",
       "    <tr>\n",
       "      <th>1294</th>\n",
       "      <td>female_angry</td>\n",
       "      <td>female_angry</td>\n",
       "    </tr>\n",
       "    <tr>\n",
       "      <th>1024</th>\n",
       "      <td>female_angry</td>\n",
       "      <td>female_angry</td>\n",
       "    </tr>\n",
       "    <tr>\n",
       "      <th>994</th>\n",
       "      <td>female_sad</td>\n",
       "      <td>female_sad</td>\n",
       "    </tr>\n",
       "    <tr>\n",
       "      <th>63</th>\n",
       "      <td>female_happy</td>\n",
       "      <td>female_happy</td>\n",
       "    </tr>\n",
       "    <tr>\n",
       "      <th>1892</th>\n",
       "      <td>female_sad</td>\n",
       "      <td>female_sad</td>\n",
       "    </tr>\n",
       "    <tr>\n",
       "      <th>130</th>\n",
       "      <td>male_angry</td>\n",
       "      <td>male_angry</td>\n",
       "    </tr>\n",
       "    <tr>\n",
       "      <th>707</th>\n",
       "      <td>female_sad</td>\n",
       "      <td>female_sad</td>\n",
       "    </tr>\n",
       "    <tr>\n",
       "      <th>1498</th>\n",
       "      <td>female_sad</td>\n",
       "      <td>female_sad</td>\n",
       "    </tr>\n",
       "    <tr>\n",
       "      <th>1742</th>\n",
       "      <td>male_calm</td>\n",
       "      <td>male_calm</td>\n",
       "    </tr>\n",
       "    <tr>\n",
       "      <th>310</th>\n",
       "      <td>male_calm</td>\n",
       "      <td>male_calm</td>\n",
       "    </tr>\n",
       "  </tbody>\n",
       "</table>\n",
       "</div>"
      ],
      "text/plain": [
       "      actualvalues predictedvalues\n",
       "1294  female_angry    female_angry\n",
       "1024  female_angry    female_angry\n",
       "994     female_sad      female_sad\n",
       "63    female_happy    female_happy\n",
       "1892    female_sad      female_sad\n",
       "130     male_angry      male_angry\n",
       "707     female_sad      female_sad\n",
       "1498    female_sad      female_sad\n",
       "1742     male_calm       male_calm\n",
       "310      male_calm       male_calm"
      ]
     },
     "execution_count": 343,
     "metadata": {},
     "output_type": "execute_result"
    }
   ],
   "source": [
    "finaldf.sample(10)"
   ]
  },
  {
   "cell_type": "code",
   "execution_count": 344,
   "metadata": {},
   "outputs": [],
   "source": [
    "# print(\"-------COMMANDS-------\\nplay music (This automatically plays music base on your mood)\\nplay song_name (self choosen music or movie) \\n\\n--control playing song as-----\\npause\\nresume\\nstart again\")\n",
    "# print(\"to repeat song:REPLAY\")\n"
   ]
  },
  {
   "cell_type": "markdown",
   "metadata": {},
   "source": [
    "Testing code section"
   ]
  },
  {
   "cell_type": "code",
   "execution_count": 25,
   "metadata": {},
   "outputs": [],
   "source": [
    "import pyaudio\n",
    "import wave\n",
    "import speech_recognition as sr\n",
    "recognizer = sr.Recognizer()"
   ]
  },
  {
   "cell_type": "code",
   "execution_count": 26,
   "metadata": {},
   "outputs": [],
   "source": [
    "def recoreded():\n",
    "    with sr.WavFile('testing.wav') as source:\n",
    "        recognizer.adjust_for_ambient_noise(source)\n",
    "        audio2 = recognizer.record(source)\n",
    "    try: \n",
    "        s = recognizer.recognize_google(audio2,language=\"en\")\n",
    "        # print(s)\n",
    "        return s\n",
    "    except:\n",
    "        print(\"I don't seems to get that!\")"
   ]
  },
  {
   "cell_type": "code",
   "execution_count": 27,
   "metadata": {},
   "outputs": [
    {
     "name": "stderr",
     "output_type": "stream",
     "text": [
      "100%|██████████| 1/1 [00:00<00:00,  8.36it/s]\n"
     ]
    },
    {
     "name": "stdout",
     "output_type": "stream",
     "text": [
      "1/1 [==============================] - 0s 89ms/step\n",
      "['female_happy']\n"
     ]
    }
   ],
   "source": [
    "if recoreded() == 'play music':\n",
    "    newinput = pd.DataFrame({'Path': ['../SER/output10.wav']})\n",
    "    mfcc2 = prepare_data(newinput, n = 30, mfcc = 1)\n",
    "    preds2 = loaded_model.predict(mfcc2,batch_size=16,verbose=1)\n",
    "    preds2=preds2.argmax(axis=1)\n",
    "    final = preds2.astype(int).flatten()\n",
    "    final = (lb.inverse_transform((final)))\n",
    "    print(final) #emo(final) #gender(final)\n",
    "    \n",
    "elif \"play\" in recoreded():\n",
    "    print('better')\n",
    "else:\n",
    "    print('problem')"
   ]
  },
  {
   "cell_type": "code",
   "execution_count": 56,
   "metadata": {},
   "outputs": [],
   "source": [
    "import re"
   ]
  },
  {
   "cell_type": "code",
   "execution_count": 345,
   "metadata": {},
   "outputs": [],
   "source": [
    "n_mfcc = 30"
   ]
  },
  {
   "cell_type": "code",
   "execution_count": 346,
   "metadata": {},
   "outputs": [],
   "source": [
    "nwpath = ['../SER/output10.wav']"
   ]
  },
  {
   "cell_type": "code",
   "execution_count": 347,
   "metadata": {},
   "outputs": [],
   "source": [
    "#deleting  recorded file\n",
    "# os.remove('../SER/testing.wav')"
   ]
  },
  {
   "cell_type": "code",
   "execution_count": 372,
   "metadata": {},
   "outputs": [
    {
     "data": {
      "text/html": [
       "<div>\n",
       "<style scoped>\n",
       "    .dataframe tbody tr th:only-of-type {\n",
       "        vertical-align: middle;\n",
       "    }\n",
       "\n",
       "    .dataframe tbody tr th {\n",
       "        vertical-align: top;\n",
       "    }\n",
       "\n",
       "    .dataframe thead th {\n",
       "        text-align: right;\n",
       "    }\n",
       "</style>\n",
       "<table border=\"1\" class=\"dataframe\">\n",
       "  <thead>\n",
       "    <tr style=\"text-align: right;\">\n",
       "      <th></th>\n",
       "      <th>Path</th>\n",
       "    </tr>\n",
       "  </thead>\n",
       "  <tbody>\n",
       "    <tr>\n",
       "      <th>0</th>\n",
       "      <td>../SER/output16.wav</td>\n",
       "    </tr>\n",
       "  </tbody>\n",
       "</table>\n",
       "</div>"
      ],
      "text/plain": [
       "                  Path\n",
       "0  ../SER/output16.wav"
      ]
     },
     "execution_count": 372,
     "metadata": {},
     "output_type": "execute_result"
    }
   ],
   "source": [
    "newinput = pd.DataFrame({'Path': ['../SER/output16.wav']})\n",
    "newinput"
   ]
  },
  {
   "cell_type": "code",
   "execution_count": 373,
   "metadata": {},
   "outputs": [
    {
     "name": "stderr",
     "output_type": "stream",
     "text": [
      "100%|██████████| 1/1 [00:00<00:00, 17.85it/s]\n"
     ]
    }
   ],
   "source": [
    "n_mfcc = 30\n",
    "mfcc2 = prepare_data(newinput, n = n_mfcc, aug = 0, mfcc = 1)"
   ]
  },
  {
   "cell_type": "code",
   "execution_count": 374,
   "metadata": {},
   "outputs": [
    {
     "name": "stdout",
     "output_type": "stream",
     "text": [
      "1/1 [==============================] - 0s 84ms/step\n"
     ]
    },
    {
     "data": {
      "text/plain": [
       "array([3], dtype=int64)"
      ]
     },
     "execution_count": 374,
     "metadata": {},
     "output_type": "execute_result"
    }
   ],
   "source": [
    "preds2 = model.predict(mfcc2, \n",
    "                         batch_size=16, \n",
    "                         verbose=1)\n",
    "\n",
    "preds2=preds2.argmax(axis=1)\n",
    "preds2"
   ]
  },
  {
   "cell_type": "code",
   "execution_count": 375,
   "metadata": {},
   "outputs": [
    {
     "name": "stdout",
     "output_type": "stream",
     "text": [
      "['female_sad']\n"
     ]
    }
   ],
   "source": [
    "final = preds2.astype(int).flatten()\n",
    "final = (lb.inverse_transform((final)))\n",
    "print(final) #emo(final) #gender(final) "
   ]
  },
  {
   "cell_type": "code",
   "execution_count": 63,
   "metadata": {},
   "outputs": [
    {
     "data": {
      "text/plain": [
       "'happy'"
      ]
     },
     "execution_count": 63,
     "metadata": {},
     "output_type": "execute_result"
    }
   ],
   "source": [
    "final[0].split('_')[1]"
   ]
  },
  {
   "cell_type": "code",
   "execution_count": null,
   "metadata": {},
   "outputs": [],
   "source": []
  }
 ],
 "metadata": {
  "kernelspec": {
   "display_name": "Python 3.10.4 ('env')",
   "language": "python",
   "name": "python3"
  },
  "language_info": {
   "codemirror_mode": {
    "name": "ipython",
    "version": 3
   },
   "file_extension": ".py",
   "mimetype": "text/x-python",
   "name": "python",
   "nbconvert_exporter": "python",
   "pygments_lexer": "ipython3",
   "version": "3.10.4"
  },
  "orig_nbformat": 4,
  "vscode": {
   "interpreter": {
    "hash": "5a80a721eddef92e831e6e272c4656ac3b1576e9f7df1307f67eb40125234cad"
   }
  }
 },
 "nbformat": 4,
 "nbformat_minor": 2
}
