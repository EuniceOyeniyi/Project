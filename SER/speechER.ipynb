{
 "cells": [
  {
   "cell_type": "code",
   "execution_count": 1,
   "metadata": {},
   "outputs": [],
   "source": [
    "# Installation\n",
    "# ! pip install librosa soundfile numpy sklearn pyaudio"
   ]
  },
  {
   "cell_type": "code",
   "execution_count": 2,
   "metadata": {},
   "outputs": [],
   "source": [
    "import pandas as pd\n",
    "import numpy as np\n",
    "import re\n",
    "import librosa\n",
    "import librosa.display\n",
    "import seaborn as sns\n",
    "import soundfile as sf\n",
    "import os, glob, pickle\n",
    "import matplotlib.pyplot as plt\n",
    "\n",
    "from sklearn.model_selection import train_test_split\n",
    "from sklearn.neural_network import MLPClassifier\n",
    "from sklearn.metrics import accuracy_score"
   ]
  },
  {
   "cell_type": "markdown",
   "metadata": {},
   "source": [
    "RAVEDESS DATA"
   ]
  },
  {
   "cell_type": "code",
   "execution_count": 3,
   "metadata": {},
   "outputs": [
    {
     "name": "stdout",
     "output_type": "stream",
     "text": [
      "RAVEDESS DATA\n",
      "['Actor_01', 'Actor_02', 'Actor_03', 'Actor_04', 'Actor_05', 'Actor_06', 'Actor_07', 'Actor_08', 'Actor_09', 'Actor_10', 'Actor_11', 'Actor_12', 'Actor_13', 'Actor_14', 'Actor_15', 'Actor_16', 'Actor_17', 'Actor_18', 'Actor_19', 'Actor_20', 'Actor_21', 'Actor_22', 'Actor_23', 'Actor_24']\n"
     ]
    }
   ],
   "source": [
    "#Checking the data \n",
    "\n",
    "file_path = \"../SER/SER-Ravdess-data\"\n",
    "\n",
    "file_directory=os.listdir(file_path)\n",
    "print('RAVEDESS DATA')\n",
    "print(file_directory)\n"
   ]
  },
  {
   "cell_type": "code",
   "execution_count": 4,
   "metadata": {},
   "outputs": [
    {
     "data": {
      "text/html": [
       "<div>\n",
       "<style scoped>\n",
       "    .dataframe tbody tr th:only-of-type {\n",
       "        vertical-align: middle;\n",
       "    }\n",
       "\n",
       "    .dataframe tbody tr th {\n",
       "        vertical-align: top;\n",
       "    }\n",
       "\n",
       "    .dataframe thead th {\n",
       "        text-align: right;\n",
       "    }\n",
       "</style>\n",
       "<table border=\"1\" class=\"dataframe\">\n",
       "  <thead>\n",
       "    <tr style=\"text-align: right;\">\n",
       "      <th></th>\n",
       "      <th>Path</th>\n",
       "      <th>Emotion</th>\n",
       "    </tr>\n",
       "  </thead>\n",
       "  <tbody>\n",
       "    <tr>\n",
       "      <th>1008</th>\n",
       "      <td>../SER/SER-Ravdess-data/Actor_17/03-01-07-02-0...</td>\n",
       "      <td>male_disgust</td>\n",
       "    </tr>\n",
       "    <tr>\n",
       "      <th>1367</th>\n",
       "      <td>../SER/SER-Ravdess-data/Actor_23/03-01-07-01-0...</td>\n",
       "      <td>male_disgust</td>\n",
       "    </tr>\n",
       "    <tr>\n",
       "      <th>1163</th>\n",
       "      <td>../SER/SER-Ravdess-data/Actor_20/03-01-04-01-0...</td>\n",
       "      <td>female_sad</td>\n",
       "    </tr>\n",
       "    <tr>\n",
       "      <th>1164</th>\n",
       "      <td>../SER/SER-Ravdess-data/Actor_20/03-01-04-02-0...</td>\n",
       "      <td>female_sad</td>\n",
       "    </tr>\n",
       "    <tr>\n",
       "      <th>2</th>\n",
       "      <td>../SER/SER-Ravdess-data/Actor_01/03-01-01-01-0...</td>\n",
       "      <td>male_calm</td>\n",
       "    </tr>\n",
       "  </tbody>\n",
       "</table>\n",
       "</div>"
      ],
      "text/plain": [
       "                                                   Path       Emotion\n",
       "1008  ../SER/SER-Ravdess-data/Actor_17/03-01-07-02-0...  male_disgust\n",
       "1367  ../SER/SER-Ravdess-data/Actor_23/03-01-07-01-0...  male_disgust\n",
       "1163  ../SER/SER-Ravdess-data/Actor_20/03-01-04-01-0...    female_sad\n",
       "1164  ../SER/SER-Ravdess-data/Actor_20/03-01-04-02-0...    female_sad\n",
       "2     ../SER/SER-Ravdess-data/Actor_01/03-01-01-01-0...     male_calm"
      ]
     },
     "execution_count": 4,
     "metadata": {},
     "output_type": "execute_result"
    }
   ],
   "source": [
    "emotion_list=[]\n",
    "path_list =[]\n",
    "Gender = []\n",
    "\n",
    "for directory in file_directory:\n",
    "    actor = os.listdir(file_path + '/' + directory)\n",
    "    for file in actor:\n",
    "        part = file.split('.')[0].split('-')[2]\n",
    "        emotion_list.append(int(part))\n",
    "        gender_id = file.split('.')[0].split('-')[6]\n",
    "        gender_id = int(gender_id)\n",
    "        if gender_id%2 == 0:\n",
    "            Gender.append('female')\n",
    "        else:\n",
    "            Gender.append('male')\n",
    "            \n",
    "        \n",
    "        path_list.append(file_path + '/' + directory + '/' + file)\n",
    "\n",
    "# dataframe for emotion of files\n",
    "Ravdess_df = pd.DataFrame({'Emotions':emotion_list, 'Gender':Gender,'Path':path_list})\n",
    "Ravdess_df.Emotions.replace({1:'calm', 2:'calm', 3:'happy', 4:'sad', 5:'angry', 6:'fear', 7:'disgust', 8:'surprise'}, inplace=True)\n",
    "Ravdess_df['Emotion'] =Ravdess_df['Gender'] + '_'+ Ravdess_df['Emotions']\n",
    "Ravdess_df.drop(['Emotions','Gender'],axis=1,inplace=True)\n",
    "Ravdess_df.sample(5)\n",
    "\n",
    "    "
   ]
  },
  {
   "cell_type": "code",
   "execution_count": 5,
   "metadata": {},
   "outputs": [
    {
     "data": {
      "text/plain": [
       "male_calm          144\n",
       "female_calm        144\n",
       "male_happy          96\n",
       "male_sad            96\n",
       "male_angry          96\n",
       "male_fear           96\n",
       "male_disgust        96\n",
       "male_surprise       96\n",
       "female_happy        96\n",
       "female_sad          96\n",
       "female_angry        96\n",
       "female_fear         96\n",
       "female_disgust      96\n",
       "female_surprise     96\n",
       "Name: Emotion, dtype: int64"
      ]
     },
     "execution_count": 5,
     "metadata": {},
     "output_type": "execute_result"
    }
   ],
   "source": [
    "Ravdess_df['Emotion'] .value_counts()"
   ]
  },
  {
   "cell_type": "markdown",
   "metadata": {},
   "source": [
    "SAVEE DATA"
   ]
  },
  {
   "cell_type": "code",
   "execution_count": 6,
   "metadata": {},
   "outputs": [],
   "source": [
    "SAVEE_path = \"../SER/SAVEE\"\n",
    "savee_directory=os.listdir(SAVEE_path)"
   ]
  },
  {
   "cell_type": "code",
   "execution_count": 26,
   "metadata": {},
   "outputs": [
    {
     "data": {
      "text/html": [
       "<div>\n",
       "<style scoped>\n",
       "    .dataframe tbody tr th:only-of-type {\n",
       "        vertical-align: middle;\n",
       "    }\n",
       "\n",
       "    .dataframe tbody tr th {\n",
       "        vertical-align: top;\n",
       "    }\n",
       "\n",
       "    .dataframe thead th {\n",
       "        text-align: right;\n",
       "    }\n",
       "</style>\n",
       "<table border=\"1\" class=\"dataframe\">\n",
       "  <thead>\n",
       "    <tr style=\"text-align: right;\">\n",
       "      <th></th>\n",
       "      <th>Emotion</th>\n",
       "      <th>Path</th>\n",
       "    </tr>\n",
       "  </thead>\n",
       "  <tbody>\n",
       "    <tr>\n",
       "      <th>126</th>\n",
       "      <td>male_angry</td>\n",
       "      <td>../SER/SAVEEJE_a07.wav</td>\n",
       "    </tr>\n",
       "    <tr>\n",
       "      <th>466</th>\n",
       "      <td>male_surprise</td>\n",
       "      <td>../SER/SAVEEKL_su02.wav</td>\n",
       "    </tr>\n",
       "    <tr>\n",
       "      <th>256</th>\n",
       "      <td>male_disgust</td>\n",
       "      <td>../SER/SAVEEJK_d02.wav</td>\n",
       "    </tr>\n",
       "    <tr>\n",
       "      <th>310</th>\n",
       "      <td>male_calm</td>\n",
       "      <td>../SER/SAVEEJK_n11.wav</td>\n",
       "    </tr>\n",
       "    <tr>\n",
       "      <th>75</th>\n",
       "      <td>male_calm</td>\n",
       "      <td>../SER/SAVEEDC_n16.wav</td>\n",
       "    </tr>\n",
       "  </tbody>\n",
       "</table>\n",
       "</div>"
      ],
      "text/plain": [
       "           Emotion                     Path\n",
       "126     male_angry   ../SER/SAVEEJE_a07.wav\n",
       "466  male_surprise  ../SER/SAVEEKL_su02.wav\n",
       "256   male_disgust   ../SER/SAVEEJK_d02.wav\n",
       "310      male_calm   ../SER/SAVEEJK_n11.wav\n",
       "75       male_calm   ../SER/SAVEEDC_n16.wav"
      ]
     },
     "execution_count": 26,
     "metadata": {},
     "output_type": "execute_result"
    }
   ],
   "source": [
    "SAVEE_emotion=[]\n",
    "path_SAVEE =[]\n",
    "\n",
    "for files in savee_directory:\n",
    "    path_SAVEE.append(SAVEE_path + files )\n",
    "    \n",
    "    splitted = files.split('_')[1].split('.')[0]\n",
    "    splitted = re.findall(r'(\\w+?)(\\d+)',splitted)[0][0]\n",
    "    if splitted == 'a':\n",
    "        SAVEE_emotion.append('male_angry')\n",
    "    elif splitted == 'd':\n",
    "        SAVEE_emotion.append('male_disgust')\n",
    "    elif splitted == 'f':\n",
    "        SAVEE_emotion.append('male_fear')\n",
    "    elif splitted == 'h':\n",
    "        SAVEE_emotion.append('male_happy')\n",
    "    elif splitted == 'n':\n",
    "        SAVEE_emotion.append('male_calm')\n",
    "    elif splitted == 'sa':\n",
    "        SAVEE_emotion.append('male_sad')\n",
    "    elif splitted == 'su':\n",
    "        SAVEE_emotion.append('male_surprise')\n",
    "    else:\n",
    "        SAVEE_emotion.append('male_unknown')\n",
    "\n",
    "SAVEE_df = pd.DataFrame({'Emotion':SAVEE_emotion, 'Path':path_SAVEE})\n",
    "SAVEE_df.sample(5)\n"
   ]
  },
  {
   "cell_type": "code",
   "execution_count": 27,
   "metadata": {},
   "outputs": [
    {
     "data": {
      "text/plain": [
       "male_calm        120\n",
       "male_angry        60\n",
       "male_disgust      60\n",
       "male_fear         60\n",
       "male_happy        60\n",
       "male_sad          60\n",
       "male_surprise     60\n",
       "Name: Emotion, dtype: int64"
      ]
     },
     "execution_count": 27,
     "metadata": {},
     "output_type": "execute_result"
    }
   ],
   "source": [
    "SAVEE_df['Emotion'] .value_counts()"
   ]
  },
  {
   "cell_type": "markdown",
   "metadata": {},
   "source": [
    "TESS DATA"
   ]
  },
  {
   "cell_type": "code",
   "execution_count": 9,
   "metadata": {},
   "outputs": [
    {
     "name": "stdout",
     "output_type": "stream",
     "text": [
      "TESS DATA\n",
      "['OAF_angry', 'OAF_disgust', 'OAF_Fear', 'OAF_happy', 'OAF_neutral', 'OAF_Pleasant_surprise', 'OAF_Sad', 'YAF_angry', 'YAF_disgust', 'YAF_fear', 'YAF_happy', 'YAF_neutral', 'YAF_pleasant_surprised', 'YAF_sad']\n"
     ]
    }
   ],
   "source": [
    "TESS_path = \"../SER/TESS Toronto emotional speech set data\"\n",
    "\n",
    "TESS_directory=os.listdir(TESS_path)\n",
    "print('TESS DATA')\n",
    "print(TESS_directory)"
   ]
  },
  {
   "cell_type": "code",
   "execution_count": 10,
   "metadata": {},
   "outputs": [
    {
     "data": {
      "text/html": [
       "<div>\n",
       "<style scoped>\n",
       "    .dataframe tbody tr th:only-of-type {\n",
       "        vertical-align: middle;\n",
       "    }\n",
       "\n",
       "    .dataframe tbody tr th {\n",
       "        vertical-align: top;\n",
       "    }\n",
       "\n",
       "    .dataframe thead th {\n",
       "        text-align: right;\n",
       "    }\n",
       "</style>\n",
       "<table border=\"1\" class=\"dataframe\">\n",
       "  <thead>\n",
       "    <tr style=\"text-align: right;\">\n",
       "      <th></th>\n",
       "      <th>Emotion</th>\n",
       "      <th>Path</th>\n",
       "    </tr>\n",
       "  </thead>\n",
       "  <tbody>\n",
       "    <tr>\n",
       "      <th>286</th>\n",
       "      <td>female_disgust</td>\n",
       "      <td>../SER/TESS Toronto emotional speech set data/...</td>\n",
       "    </tr>\n",
       "    <tr>\n",
       "      <th>1201</th>\n",
       "      <td>female_sad</td>\n",
       "      <td>../SER/TESS Toronto emotional speech set data/...</td>\n",
       "    </tr>\n",
       "    <tr>\n",
       "      <th>371</th>\n",
       "      <td>female_disgust</td>\n",
       "      <td>../SER/TESS Toronto emotional speech set data/...</td>\n",
       "    </tr>\n",
       "    <tr>\n",
       "      <th>2124</th>\n",
       "      <td>female_happy</td>\n",
       "      <td>../SER/TESS Toronto emotional speech set data/...</td>\n",
       "    </tr>\n",
       "    <tr>\n",
       "      <th>1889</th>\n",
       "      <td>female_fear</td>\n",
       "      <td>../SER/TESS Toronto emotional speech set data/...</td>\n",
       "    </tr>\n",
       "  </tbody>\n",
       "</table>\n",
       "</div>"
      ],
      "text/plain": [
       "             Emotion                                               Path\n",
       "286   female_disgust  ../SER/TESS Toronto emotional speech set data/...\n",
       "1201      female_sad  ../SER/TESS Toronto emotional speech set data/...\n",
       "371   female_disgust  ../SER/TESS Toronto emotional speech set data/...\n",
       "2124    female_happy  ../SER/TESS Toronto emotional speech set data/...\n",
       "1889     female_fear  ../SER/TESS Toronto emotional speech set data/..."
      ]
     },
     "execution_count": 10,
     "metadata": {},
     "output_type": "execute_result"
    }
   ],
   "source": [
    "Tess_emotion=[]\n",
    "path_Tess =[]\n",
    "for directory in TESS_directory:\n",
    "    speech = os.listdir(TESS_path + '/' + directory)\n",
    "    for file in speech:\n",
    "        part = file.split('_')[2].split('.')[0]\n",
    "        if part == 'ps':\n",
    "            Tess_emotion.append('female_surprise')\n",
    "        else: \n",
    "            Tess_emotion.append('female_'+part)\n",
    "        path_Tess.append(TESS_path + '/' + directory + '/' + file)\n",
    "\n",
    "# dataframe for emotion of files\n",
    "Tess_df = pd.DataFrame({'Emotion':Tess_emotion, 'Path':path_Tess})\n",
    "Tess_df.sample(5)"
   ]
  },
  {
   "cell_type": "code",
   "execution_count": 11,
   "metadata": {},
   "outputs": [
    {
     "data": {
      "text/plain": [
       "female_angry       400\n",
       "female_disgust     400\n",
       "female_fear        400\n",
       "female_happy       400\n",
       "female_neutral     400\n",
       "female_surprise    400\n",
       "female_sad         400\n",
       "Name: Emotion, dtype: int64"
      ]
     },
     "execution_count": 11,
     "metadata": {},
     "output_type": "execute_result"
    }
   ],
   "source": [
    "Tess_df['Emotion'].value_counts()"
   ]
  },
  {
   "cell_type": "markdown",
   "metadata": {},
   "source": [
    "CREMA_D DATA"
   ]
  },
  {
   "cell_type": "code",
   "execution_count": 12,
   "metadata": {},
   "outputs": [],
   "source": [
    "CREMA_path = \"../SER/CREMA\"\n",
    "\n",
    "CREMA_directory=os.listdir(CREMA_path)\n",
    "# print('CREMA DATA')\n",
    "# print(CREMA_directory)"
   ]
  },
  {
   "cell_type": "code",
   "execution_count": 13,
   "metadata": {},
   "outputs": [
    {
     "data": {
      "text/plain": [
       "43"
      ]
     },
     "execution_count": 13,
     "metadata": {},
     "output_type": "execute_result"
    }
   ],
   "source": [
    "female = [1002,1003,1004,1006,1007,1008,1009,1010,1012,1013,1018,1020,1021,1024,1025,1028,1029,1030,1037,1043,1046,1047,1049,\n",
    "          1052,1053,1054,1055,1056,1058,1060,1061,1063,1072,1073,1074,1075,1076,1078,1079,1082,1084,1089,1091]\n",
    "len(female)          "
   ]
  },
  {
   "cell_type": "code",
   "execution_count": 14,
   "metadata": {},
   "outputs": [
    {
     "data": {
      "text/html": [
       "<div>\n",
       "<style scoped>\n",
       "    .dataframe tbody tr th:only-of-type {\n",
       "        vertical-align: middle;\n",
       "    }\n",
       "\n",
       "    .dataframe tbody tr th {\n",
       "        vertical-align: top;\n",
       "    }\n",
       "\n",
       "    .dataframe thead th {\n",
       "        text-align: right;\n",
       "    }\n",
       "</style>\n",
       "<table border=\"1\" class=\"dataframe\">\n",
       "  <thead>\n",
       "    <tr style=\"text-align: right;\">\n",
       "      <th></th>\n",
       "      <th>Path</th>\n",
       "      <th>Emotion</th>\n",
       "    </tr>\n",
       "  </thead>\n",
       "  <tbody>\n",
       "    <tr>\n",
       "      <th>6443</th>\n",
       "      <td>../SER/CREMA/1079_TIE_HAP_XX.wav</td>\n",
       "      <td>female_happy</td>\n",
       "    </tr>\n",
       "    <tr>\n",
       "      <th>736</th>\n",
       "      <td>../SER/CREMA/1010_IEO_DIS_MD.wav</td>\n",
       "      <td>female_disgust</td>\n",
       "    </tr>\n",
       "    <tr>\n",
       "      <th>3053</th>\n",
       "      <td>../SER/CREMA/1038_ITS_NEU_XX.wav</td>\n",
       "      <td>male_calm</td>\n",
       "    </tr>\n",
       "    <tr>\n",
       "      <th>2431</th>\n",
       "      <td>../SER/CREMA/1030_TSI_FEA_XX.wav</td>\n",
       "      <td>female_fear</td>\n",
       "    </tr>\n",
       "    <tr>\n",
       "      <th>1134</th>\n",
       "      <td>../SER/CREMA/1014_WSI_SAD_XX.wav</td>\n",
       "      <td>male_sad</td>\n",
       "    </tr>\n",
       "  </tbody>\n",
       "</table>\n",
       "</div>"
      ],
      "text/plain": [
       "                                  Path         Emotion\n",
       "6443  ../SER/CREMA/1079_TIE_HAP_XX.wav    female_happy\n",
       "736   ../SER/CREMA/1010_IEO_DIS_MD.wav  female_disgust\n",
       "3053  ../SER/CREMA/1038_ITS_NEU_XX.wav       male_calm\n",
       "2431  ../SER/CREMA/1030_TSI_FEA_XX.wav     female_fear\n",
       "1134  ../SER/CREMA/1014_WSI_SAD_XX.wav        male_sad"
      ]
     },
     "execution_count": 14,
     "metadata": {},
     "output_type": "execute_result"
    }
   ],
   "source": [
    "CREMA_emotion=[]\n",
    "path_CREMA =[]\n",
    "CREMA_Gender = []\n",
    "for file in CREMA_directory:\n",
    "    path_CREMA.append(CREMA_path + '/' + file)\n",
    "    part = file.split('_')[2]\n",
    "    gender_id = file.split('_')[0]\n",
    "    gender_id = int(gender_id)\n",
    "    if gender_id in female:\n",
    "        CREMA_Gender.append('female')\n",
    "    else:\n",
    "        CREMA_Gender.append('male')\n",
    "    if part == 'ANG':\n",
    "        CREMA_emotion.append('angry')\n",
    "    elif part == 'DIS':\n",
    "        CREMA_emotion.append('disgust')\n",
    "    elif part == 'FEA':\n",
    "        CREMA_emotion.append('fear')\n",
    "    elif part == 'HAP':\n",
    "        CREMA_emotion.append('happy')\n",
    "    elif part == 'NEU':\n",
    "        CREMA_emotion.append('calm')\n",
    "    elif part == 'SAD':\n",
    "        CREMA_emotion.append('sad')\n",
    "    else:\n",
    "        CREMA_emotion.append('unknown')\n",
    "CREMA_df = pd.DataFrame({'Emotions':CREMA_emotion, 'Path':path_CREMA,'Gender':CREMA_Gender})\n",
    "CREMA_df['Emotion'] =CREMA_df['Gender'] + '_'+ CREMA_df['Emotions']\n",
    "CREMA_df.drop(['Emotions','Gender'],axis=1,inplace=True)\n",
    "CREMA_df.sample(5)"
   ]
  },
  {
   "cell_type": "code",
   "execution_count": 15,
   "metadata": {},
   "outputs": [
    {
     "data": {
      "text/plain": [
       "male_angry        671\n",
       "male_disgust      671\n",
       "male_fear         671\n",
       "male_happy        671\n",
       "male_sad          671\n",
       "female_angry      600\n",
       "female_disgust    600\n",
       "female_fear       600\n",
       "female_happy      600\n",
       "female_sad        600\n",
       "male_calm         575\n",
       "female_calm       512\n",
       "Name: Emotion, dtype: int64"
      ]
     },
     "execution_count": 15,
     "metadata": {},
     "output_type": "execute_result"
    }
   ],
   "source": [
    "CREMA_df['Emotion'].value_counts()"
   ]
  },
  {
   "cell_type": "code",
   "execution_count": 33,
   "metadata": {},
   "outputs": [
    {
     "data": {
      "text/html": [
       "<div>\n",
       "<style scoped>\n",
       "    .dataframe tbody tr th:only-of-type {\n",
       "        vertical-align: middle;\n",
       "    }\n",
       "\n",
       "    .dataframe tbody tr th {\n",
       "        vertical-align: top;\n",
       "    }\n",
       "\n",
       "    .dataframe thead th {\n",
       "        text-align: right;\n",
       "    }\n",
       "</style>\n",
       "<table border=\"1\" class=\"dataframe\">\n",
       "  <thead>\n",
       "    <tr style=\"text-align: right;\">\n",
       "      <th></th>\n",
       "      <th>Emotion</th>\n",
       "      <th>Path</th>\n",
       "    </tr>\n",
       "  </thead>\n",
       "  <tbody>\n",
       "    <tr>\n",
       "      <th>1301</th>\n",
       "      <td>female_sad</td>\n",
       "      <td>../SER/TESS Toronto emotional speech set data/...</td>\n",
       "    </tr>\n",
       "    <tr>\n",
       "      <th>76</th>\n",
       "      <td>male_angry</td>\n",
       "      <td>../SER/CREMA/1001_WSI_ANG_XX.wav</td>\n",
       "    </tr>\n",
       "    <tr>\n",
       "      <th>2345</th>\n",
       "      <td>female_calm</td>\n",
       "      <td>../SER/CREMA/1029_TIE_NEU_XX.wav</td>\n",
       "    </tr>\n",
       "    <tr>\n",
       "      <th>3364</th>\n",
       "      <td>male_sad</td>\n",
       "      <td>../SER/CREMA/1042_IEO_SAD_MD.wav</td>\n",
       "    </tr>\n",
       "    <tr>\n",
       "      <th>1881</th>\n",
       "      <td>female_fear</td>\n",
       "      <td>../SER/TESS Toronto emotional speech set data/...</td>\n",
       "    </tr>\n",
       "  </tbody>\n",
       "</table>\n",
       "</div>"
      ],
      "text/plain": [
       "          Emotion                                               Path\n",
       "1301   female_sad  ../SER/TESS Toronto emotional speech set data/...\n",
       "76     male_angry                   ../SER/CREMA/1001_WSI_ANG_XX.wav\n",
       "2345  female_calm                   ../SER/CREMA/1029_TIE_NEU_XX.wav\n",
       "3364     male_sad                   ../SER/CREMA/1042_IEO_SAD_MD.wav\n",
       "1881  female_fear  ../SER/TESS Toronto emotional speech set data/..."
      ]
     },
     "execution_count": 33,
     "metadata": {},
     "output_type": "execute_result"
    }
   ],
   "source": [
    "combo_data = pd.concat([SAVEE_df, Tess_df, CREMA_df, Ravdess_df],axis=0)\n",
    "combo_data.to_csv('combined_data.csv',index=False)\n",
    "combo_data.sample(5)\n"
   ]
  },
  {
   "cell_type": "code",
   "execution_count": null,
   "metadata": {},
   "outputs": [],
   "source": [
    "combo_data"
   ]
  },
  {
   "cell_type": "markdown",
   "metadata": {},
   "source": [
    "EDA"
   ]
  },
  {
   "cell_type": "code",
   "execution_count": 41,
   "metadata": {},
   "outputs": [
    {
     "name": "stderr",
     "output_type": "stream",
     "text": [
      "c:\\Users\\halle\\anaconda3\\envs\\env\\lib\\site-packages\\seaborn\\_decorators.py:36: FutureWarning: Pass the following variable as a keyword arg: x. From version 0.12, the only valid positional argument will be `data`, and passing other arguments without an explicit keyword will result in an error or misinterpretation.\n",
      "  warnings.warn(\n"
     ]
    },
    {
     "data": {
      "image/png": "[encoded data removed]",
      "text/plain": [
       "<Figure size 1080x432 with 1 Axes>"
      ]
     },
     "metadata": {
      "needs_background": "light"
     },
     "output_type": "display_data"
    }
   ],
   "source": [
    "plt.figure(figsize=(15,6))\n",
    "plt.title('Count of emotion in the dataset')\n",
    "sns.countplot(combo_data.Emotion)\n",
    "plt.ylabel('Count')\n",
    "plt.xlabel('Emotions')\n",
    "plt.xticks(rotation=90)\n",
    "plt.show()"
   ]
  },
  {
   "cell_type": "code",
   "execution_count": 18,
   "metadata": {},
   "outputs": [],
   "source": [
    "sound, saamplerate = librosa.load(f'{file_path}/Actor_01/03-01-01-01-01-01-01.wav')"
   ]
  },
  {
   "cell_type": "code",
   "execution_count": 19,
   "metadata": {},
   "outputs": [
    {
     "name": "stdout",
     "output_type": "stream",
     "text": [
      "Vibration sequence: [0. 0. 0. ... 0. 0. 0.]\n",
      "Sound shape: (72839,)\n",
      "Sample Rate (Hz): 22050\n",
      "Length of Audio: 3.3033560090702947\n"
     ]
    }
   ],
   "source": [
    "print('Vibration sequence:', sound)\n",
    "array_len =sound.shape\n",
    "print('Sound shape:', array_len)\n",
    "print('Sample Rate (Hz):',saamplerate)\n",
    "\n",
    "print('Length of Audio:', array_len[0]/saamplerate)"
   ]
  },
  {
   "cell_type": "code",
   "execution_count": 20,
   "metadata": {},
   "outputs": [
    {
     "data": {
      "image/png": "[encoded data removed]",
      "text/plain": [
       "<Figure size 1152x432 with 1 Axes>"
      ]
     },
     "metadata": {
      "needs_background": "light"
     },
     "output_type": "display_data"
    }
   ],
   "source": [
    "plt.figure(figsize=(16, 6))\n",
    "librosa.display.waveshow(y=sound, sr=saamplerate, color=\"#2f7d92ff\")\n",
    "plt.title(\"Waveform of classical.00003.wav\", fontsize=12)  \n",
    "plt.show()"
   ]
  },
  {
   "cell_type": "code",
   "execution_count": 21,
   "metadata": {},
   "outputs": [],
   "source": [
    "# Extracting feature; mfcc, chroma, mel\n",
    "\n",
    "#DataFlair - Extract features (mfcc, chroma, mel) from a sound file\n",
    "def extract_feature(file_name, mfcc, chroma, mel):\n",
    "    with sf.SoundFile(file_name) as sound_file:\n",
    "        X = sound_file.read(dtype=\"float32\")\n",
    "        sample_rate=sound_file.samplerate\n",
    "        if chroma:\n",
    "            stft=np.abs(librosa.stft(X))\n",
    "        result=np.array([])\n",
    "        if mfcc:\n",
    "            mfccs=np.mean(librosa.feature.mfcc(y=X, sr=sample_rate, n_mfcc=40).T, axis=0)\n",
    "            result=np.hstack((result, mfccs))\n",
    "        if chroma:\n",
    "            chroma=np.mean(librosa.feature.chroma_stft(S=stft, sr=sample_rate).T,axis=0)\n",
    "            result=np.hstack((result, chroma))\n",
    "        if mel:\n",
    "                    mel=np.mean(librosa.feature.melspectrogram(X, sr=sample_rate).T,axis=0)\n",
    "                    result=np.hstack((result, mel))\n",
    "        return result"
   ]
  },
  {
   "cell_type": "code",
   "execution_count": 22,
   "metadata": {},
   "outputs": [],
   "source": [
    "# Defining emotions in the dataset\n",
    "\n",
    "emotions = {\n",
    "    '01':'neutral',\n",
    "    '02':'calm',\n",
    "    '03':'happy',\n",
    "    '04':'sad',\n",
    "    '05':'angry',\n",
    "    '06':'fearful',\n",
    "    '07':'disgust',\n",
    "    '08':'surprised'\n",
    "}\n",
    "\n",
    "observed_emotions =['calm','happy','fearful','disgust']"
   ]
  },
  {
   "cell_type": "code",
   "execution_count": 23,
   "metadata": {},
   "outputs": [],
   "source": [
    "#Loading the data and extraxting the features for each sound file\n",
    "def load_data(test_size=0.2):\n",
    "    x,y = [],[]\n",
    "    for file in glob.glob(\"../SER/SER-Ravdess-data/Actor_*/*.wav\"):\n",
    "        file_name = os.path.basename(file)\n",
    "        emotion = emotions[file_name.split(\"-\")[2]]\n",
    "        if emotion not in observed_emotions:\n",
    "            continue\n",
    "        feature = extract_feature(file, mfcc=True, chroma=True, mel=True)\n",
    "        x.append(feature)\n",
    "        y.append(emotion)\n",
    "        # return train_test_split(np.array(x),y,test_size=test_size,random_state=9 )\n",
    "        return y"
   ]
  },
  {
   "cell_type": "code",
   "execution_count": 24,
   "metadata": {},
   "outputs": [
    {
     "name": "stderr",
     "output_type": "stream",
     "text": [
      "C:\\Users\\halle\\AppData\\Local\\Temp\\ipykernel_16216\\1062277746.py:18: FutureWarning: Pass y=[0. 0. 0. ... 0. 0. 0.] as keyword args. From version 0.10 passing these as positional arguments will result in an error\n",
      "  mel=np.mean(librosa.feature.melspectrogram(X, sr=sample_rate).T,axis=0)\n"
     ]
    },
    {
     "data": {
      "text/plain": [
       "['calm']"
      ]
     },
     "execution_count": 24,
     "metadata": {},
     "output_type": "execute_result"
    }
   ],
   "source": [
    "\n",
    "\n",
    "\n",
    "load_data()"
   ]
  },
  {
   "cell_type": "code",
   "execution_count": null,
   "metadata": {},
   "outputs": [],
   "source": []
  }
 ],
 "metadata": {
  "kernelspec": {
   "display_name": "Python 3.10.4 ('env')",
   "language": "python",
   "name": "python3"
  },
  "language_info": {
   "codemirror_mode": {
    "name": "ipython",
    "version": 3
   },
   "file_extension": ".py",
   "mimetype": "text/x-python",
   "name": "python",
   "nbconvert_exporter": "python",
   "pygments_lexer": "ipython3",
   "version": "3.10.4"
  },
  "orig_nbformat": 4,
  "vscode": {
   "interpreter": {
    "hash": "5a80a721eddef92e831e6e272c4656ac3b1576e9f7df1307f67eb40125234cad"
   }
  }
 },
 "nbformat": 4,
 "nbformat_minor": 2
}
